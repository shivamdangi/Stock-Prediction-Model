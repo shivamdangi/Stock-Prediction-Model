{
  "nbformat": 4,
  "nbformat_minor": 0,
  "metadata": {
    "colab": {
      "provenance": []
    },
    "kernelspec": {
      "name": "python3",
      "display_name": "Python 3"
    },
    "language_info": {
      "name": "python"
    }
  },
  "cells": [
    {
      "cell_type": "markdown",
      "source": [
        "Stock Price Prediction using Moving Average Statistical methodology"
      ],
      "metadata": {
        "id": "ApJ9rsBTKZNI"
      }
    },
    {
      "cell_type": "code",
      "execution_count": 2,
      "metadata": {
        "id": "wsHG2_qXJjBk"
      },
      "outputs": [],
      "source": [
        "#import necesaary packages\n",
        "import numpy as np\n",
        "import pandas as pd\n",
        "import matplotlib.pyplot as plt\n",
        "from sklearn.metrics import mean_squared_error as mse\n",
        "import os\n",
        "import statistics"
      ]
    },
    {
      "cell_type": "code",
      "source": [
        "df=pd.read_csv('/content/INFY.csv',usecols=['Date','Close'],parse_dates=['Date'],index_col='Date')"
      ],
      "metadata": {
        "id": "f7ESlJVPdFe-"
      },
      "execution_count": 5,
      "outputs": []
    },
    {
      "cell_type": "code",
      "source": [
        "df.head()"
      ],
      "metadata": {
        "colab": {
          "base_uri": "https://localhost:8080/",
          "height": 237
        },
        "id": "FCY1ISV3diRB",
        "outputId": "ec665aa4-c3d7-4019-9089-79084742d61d"
      },
      "execution_count": 100,
      "outputs": [
        {
          "output_type": "execute_result",
          "data": {
            "text/plain": [
              "               Close\n",
              "Date                \n",
              "1999-03-11  1.464844\n",
              "1999-03-12  1.457031\n",
              "1999-03-15  1.324219\n",
              "1999-03-16  1.312500\n",
              "1999-03-17  1.320313"
            ],
            "text/html": [
              "\n",
              "  <div id=\"df-8ffff583-e403-4936-be74-b949f0a2a715\">\n",
              "    <div class=\"colab-df-container\">\n",
              "      <div>\n",
              "<style scoped>\n",
              "    .dataframe tbody tr th:only-of-type {\n",
              "        vertical-align: middle;\n",
              "    }\n",
              "\n",
              "    .dataframe tbody tr th {\n",
              "        vertical-align: top;\n",
              "    }\n",
              "\n",
              "    .dataframe thead th {\n",
              "        text-align: right;\n",
              "    }\n",
              "</style>\n",
              "<table border=\"1\" class=\"dataframe\">\n",
              "  <thead>\n",
              "    <tr style=\"text-align: right;\">\n",
              "      <th></th>\n",
              "      <th>Close</th>\n",
              "    </tr>\n",
              "    <tr>\n",
              "      <th>Date</th>\n",
              "      <th></th>\n",
              "    </tr>\n",
              "  </thead>\n",
              "  <tbody>\n",
              "    <tr>\n",
              "      <th>1999-03-11</th>\n",
              "      <td>1.464844</td>\n",
              "    </tr>\n",
              "    <tr>\n",
              "      <th>1999-03-12</th>\n",
              "      <td>1.457031</td>\n",
              "    </tr>\n",
              "    <tr>\n",
              "      <th>1999-03-15</th>\n",
              "      <td>1.324219</td>\n",
              "    </tr>\n",
              "    <tr>\n",
              "      <th>1999-03-16</th>\n",
              "      <td>1.312500</td>\n",
              "    </tr>\n",
              "    <tr>\n",
              "      <th>1999-03-17</th>\n",
              "      <td>1.320313</td>\n",
              "    </tr>\n",
              "  </tbody>\n",
              "</table>\n",
              "</div>\n",
              "      <button class=\"colab-df-convert\" onclick=\"convertToInteractive('df-8ffff583-e403-4936-be74-b949f0a2a715')\"\n",
              "              title=\"Convert this dataframe to an interactive table.\"\n",
              "              style=\"display:none;\">\n",
              "        \n",
              "  <svg xmlns=\"http://www.w3.org/2000/svg\" height=\"24px\"viewBox=\"0 0 24 24\"\n",
              "       width=\"24px\">\n",
              "    <path d=\"M0 0h24v24H0V0z\" fill=\"none\"/>\n",
              "    <path d=\"M18.56 5.44l.94 2.06.94-2.06 2.06-.94-2.06-.94-.94-2.06-.94 2.06-2.06.94zm-11 1L8.5 8.5l.94-2.06 2.06-.94-2.06-.94L8.5 2.5l-.94 2.06-2.06.94zm10 10l.94 2.06.94-2.06 2.06-.94-2.06-.94-.94-2.06-.94 2.06-2.06.94z\"/><path d=\"M17.41 7.96l-1.37-1.37c-.4-.4-.92-.59-1.43-.59-.52 0-1.04.2-1.43.59L10.3 9.45l-7.72 7.72c-.78.78-.78 2.05 0 2.83L4 21.41c.39.39.9.59 1.41.59.51 0 1.02-.2 1.41-.59l7.78-7.78 2.81-2.81c.8-.78.8-2.07 0-2.86zM5.41 20L4 18.59l7.72-7.72 1.47 1.35L5.41 20z\"/>\n",
              "  </svg>\n",
              "      </button>\n",
              "      \n",
              "  <style>\n",
              "    .colab-df-container {\n",
              "      display:flex;\n",
              "      flex-wrap:wrap;\n",
              "      gap: 12px;\n",
              "    }\n",
              "\n",
              "    .colab-df-convert {\n",
              "      background-color: #E8F0FE;\n",
              "      border: none;\n",
              "      border-radius: 50%;\n",
              "      cursor: pointer;\n",
              "      display: none;\n",
              "      fill: #1967D2;\n",
              "      height: 32px;\n",
              "      padding: 0 0 0 0;\n",
              "      width: 32px;\n",
              "    }\n",
              "\n",
              "    .colab-df-convert:hover {\n",
              "      background-color: #E2EBFA;\n",
              "      box-shadow: 0px 1px 2px rgba(60, 64, 67, 0.3), 0px 1px 3px 1px rgba(60, 64, 67, 0.15);\n",
              "      fill: #174EA6;\n",
              "    }\n",
              "\n",
              "    [theme=dark] .colab-df-convert {\n",
              "      background-color: #3B4455;\n",
              "      fill: #D2E3FC;\n",
              "    }\n",
              "\n",
              "    [theme=dark] .colab-df-convert:hover {\n",
              "      background-color: #434B5C;\n",
              "      box-shadow: 0px 1px 3px 1px rgba(0, 0, 0, 0.15);\n",
              "      filter: drop-shadow(0px 1px 2px rgba(0, 0, 0, 0.3));\n",
              "      fill: #FFFFFF;\n",
              "    }\n",
              "  </style>\n",
              "\n",
              "      <script>\n",
              "        const buttonEl =\n",
              "          document.querySelector('#df-8ffff583-e403-4936-be74-b949f0a2a715 button.colab-df-convert');\n",
              "        buttonEl.style.display =\n",
              "          google.colab.kernel.accessAllowed ? 'block' : 'none';\n",
              "\n",
              "        async function convertToInteractive(key) {\n",
              "          const element = document.querySelector('#df-8ffff583-e403-4936-be74-b949f0a2a715');\n",
              "          const dataTable =\n",
              "            await google.colab.kernel.invokeFunction('convertToInteractive',\n",
              "                                                     [key], {});\n",
              "          if (!dataTable) return;\n",
              "\n",
              "          const docLinkHtml = 'Like what you see? Visit the ' +\n",
              "            '<a target=\"_blank\" href=https://colab.research.google.com/notebooks/data_table.ipynb>data table notebook</a>'\n",
              "            + ' to learn more about interactive tables.';\n",
              "          element.innerHTML = '';\n",
              "          dataTable['output_type'] = 'display_data';\n",
              "          await google.colab.output.renderOutput(dataTable, element);\n",
              "          const docLink = document.createElement('div');\n",
              "          docLink.innerHTML = docLinkHtml;\n",
              "          element.appendChild(docLink);\n",
              "        }\n",
              "      </script>\n",
              "    </div>\n",
              "  </div>\n",
              "  "
            ]
          },
          "metadata": {},
          "execution_count": 100
        }
      ]
    },
    {
      "cell_type": "code",
      "source": [
        "df.shape"
      ],
      "metadata": {
        "colab": {
          "base_uri": "https://localhost:8080/"
        },
        "id": "lX3KryIWd70x",
        "outputId": "47c80039-6612-472a-b101-50b28d8503ae"
      },
      "execution_count": 99,
      "outputs": [
        {
          "output_type": "execute_result",
          "data": {
            "text/plain": [
              "(4627, 1)"
            ]
          },
          "metadata": {},
          "execution_count": 99
        }
      ]
    },
    {
      "cell_type": "code",
      "source": [
        "df.info()"
      ],
      "metadata": {
        "id": "GjjRVZ0HeYxa"
      },
      "execution_count": null,
      "outputs": []
    },
    {
      "cell_type": "code",
      "source": [
        "print(df.index.min())"
      ],
      "metadata": {
        "colab": {
          "base_uri": "https://localhost:8080/"
        },
        "id": "dbn-JKAdehuK",
        "outputId": "af2a5dee-3ca8-4356-af90-509df6fb35ba"
      },
      "execution_count": 105,
      "outputs": [
        {
          "output_type": "stream",
          "name": "stdout",
          "text": [
            "1999-03-11 00:00:00\n"
          ]
        }
      ]
    },
    {
      "cell_type": "code",
      "source": [
        "print(df.index.max())"
      ],
      "metadata": {
        "id": "jwbCJ19Ke5vl"
      },
      "execution_count": null,
      "outputs": []
    },
    {
      "cell_type": "code",
      "source": [
        "plt.figure(figsize=(17,5))\n",
        "df.Close.plot()\n",
        "plt.title(\"Closing PRICE\",fontsize=20)\n",
        "plt.show()"
      ],
      "metadata": {
        "id": "wqobWMcje-mi"
      },
      "execution_count": null,
      "outputs": []
    },
    {
      "cell_type": "code",
      "source": [
        "plt.figure(figsize=(20,6))\n",
        "stock_price=pd.concat([df.Close[:'2004-07-01'],df.Close['2004-07-01':]])\n",
        "#stock_price=df\n",
        "plt.plot(stock_price)\n",
        "plt.title(\"Closing Price Adjusted\",fontsize=20)\n",
        "plt.show()"
      ],
      "metadata": {
        "id": "c2YtdCzXlwPl"
      },
      "execution_count": null,
      "outputs": []
    },
    {
      "cell_type": "code",
      "source": [
        "#split data for training and testing module\n",
        "train_value=stock_price.iloc[:3000]\n",
        "test_value=stock_price.iloc[3000:]\n",
        "def plot_pred(pred,title):\n",
        "  plt.figure(figsize=(20,6))\n",
        "  plt.plot(train_value,label='Train')\n",
        "  plt.plot(test_value,label='Actual')\n",
        "  plt.plot(pred,label='Predicted')\n",
        "  plt.ylabel(\"Stock Price\")\n",
        "  plt.title(title,fontsize=20)\n",
        "  plt.legend()\n",
        "  plt.show()"
      ],
      "metadata": {
        "id": "lPGi7f7vmX5d"
      },
      "execution_count": 15,
      "outputs": []
    },
    {
      "cell_type": "code",
      "source": [
        "y_av=pd.Series(np.repeat(train_value.mean(),1628),index=test_value.index)\n",
        "mse(y_av,test_value)"
      ],
      "metadata": {
        "colab": {
          "base_uri": "https://localhost:8080/"
        },
        "id": "EJ4-mff_n1ih",
        "outputId": "a86dfbf9-aeae-492f-9336-73c1970176a5"
      },
      "execution_count": 16,
      "outputs": [
        {
          "output_type": "execute_result",
          "data": {
            "text/plain": [
              "44.30171335543789"
            ]
          },
          "metadata": {},
          "execution_count": 16
        }
      ]
    },
    {
      "cell_type": "code",
      "source": [
        "plot_pred(y_av,\"Average\")"
      ],
      "metadata": {
        "id": "6CBrBz6YqVlv"
      },
      "execution_count": null,
      "outputs": []
    },
    {
      "cell_type": "code",
      "source": [
        "#using machine learning\n",
        "y_train=stock_price[:3000]\n",
        "y_test=stock_price[3000:]\n",
        "print(y_train.shape)\n",
        "print(y_test.shape)"
      ],
      "metadata": {
        "id": "XYkpKba_rz0_"
      },
      "execution_count": null,
      "outputs": []
    },
    {
      "cell_type": "code",
      "source": [
        "x_train=pd.DataFrame([list(stock_price[i:i+1628]) for i in range(3000)],\n",
        "                     columns=range(1628,0,-1),index=y_train.index)\n",
        "x_test=pd.DataFrame([list(stock_price[i:i+1628]) for i in range(3000,4628)],\n",
        "                    columns=range(1628,0,-1),index=y_test.index)\n",
        "x_train\n",
        "#print(x_train.shape)\n",
        "#print(x_test.shape)"
      ],
      "metadata": {
        "id": "G9wtWuRVsIwv",
        "colab": {
          "base_uri": "https://localhost:8080/",
          "height": 692
        },
        "outputId": "74fae4f8-03e2-41ea-a770-03ebb17f4c62"
      },
      "execution_count": 109,
      "outputs": [
        {
          "output_type": "execute_result",
          "data": {
            "text/plain": [
              "                 1628       1627       1626       1625       1624       1623  \\\n",
              "Date                                                                           \n",
              "1999-03-11   1.464844   1.457031   1.324219   1.312500   1.320313   1.343750   \n",
              "1999-03-12   1.457031   1.324219   1.312500   1.320313   1.343750   1.312500   \n",
              "1999-03-15   1.324219   1.312500   1.320313   1.343750   1.312500   1.320313   \n",
              "1999-03-16   1.312500   1.320313   1.343750   1.312500   1.320313   1.261719   \n",
              "1999-03-17   1.320313   1.343750   1.312500   1.320313   1.261719   1.273438   \n",
              "...               ...        ...        ...        ...        ...        ...   \n",
              "2011-02-02  17.004999  17.087500  16.920000  17.184999  17.245001  17.002501   \n",
              "2011-02-03  17.087500  16.920000  17.184999  17.245001  17.002501  16.830000   \n",
              "2011-02-04  16.920000  17.184999  17.245001  17.002501  16.830000  16.780001   \n",
              "2011-02-07  17.184999  17.245001  17.002501  16.830000  16.780001  17.035000   \n",
              "2011-02-08  17.245001  17.002501  16.830000  16.780001  17.035000  17.072500   \n",
              "\n",
              "                 1622       1621       1620       1619  ...      10    \\\n",
              "Date                                                    ...             \n",
              "1999-03-11   1.312500   1.320313   1.261719   1.273438  ...   8.81250   \n",
              "1999-03-12   1.320313   1.261719   1.273438   1.320313  ...   8.75625   \n",
              "1999-03-15   1.261719   1.273438   1.320313   1.417969  ...   8.84375   \n",
              "1999-03-16   1.273438   1.320313   1.417969   1.433594  ...   8.77000   \n",
              "1999-03-17   1.320313   1.417969   1.433594   1.417969  ...   8.77125   \n",
              "...               ...        ...        ...        ...  ...       ...   \n",
              "2011-02-02  16.830000  16.780001  17.035000  17.072500  ...  15.32000   \n",
              "2011-02-03  16.780001  17.035000  17.072500  17.167500  ...  15.47000   \n",
              "2011-02-04  17.035000  17.072500  17.167500  17.389999  ...  15.64000   \n",
              "2011-02-07  17.072500  17.167500  17.389999  17.342501  ...  15.56000   \n",
              "2011-02-08  17.167500  17.389999  17.342501  16.850000  ...  15.67000   \n",
              "\n",
              "                9         8         7         6         5         4     \\\n",
              "Date                                                                     \n",
              "1999-03-11   8.75625   8.84375   8.77000   8.77125   8.70375   8.46250   \n",
              "1999-03-12   8.84375   8.77000   8.77125   8.70375   8.46250   8.57875   \n",
              "1999-03-15   8.77000   8.77125   8.70375   8.46250   8.57875   8.59125   \n",
              "1999-03-16   8.77125   8.70375   8.46250   8.57875   8.59125   8.74250   \n",
              "1999-03-17   8.70375   8.46250   8.57875   8.59125   8.74250   8.83500   \n",
              "...              ...       ...       ...       ...       ...       ...   \n",
              "2011-02-02  15.47000  15.64000  15.56000  15.67000  15.64000  15.55000   \n",
              "2011-02-03  15.64000  15.56000  15.67000  15.64000  15.55000  15.38000   \n",
              "2011-02-04  15.56000  15.67000  15.64000  15.55000  15.38000  15.52000   \n",
              "2011-02-07  15.67000  15.64000  15.55000  15.38000  15.52000  15.68000   \n",
              "2011-02-08  15.64000  15.55000  15.38000  15.52000  15.68000  15.68000   \n",
              "\n",
              "                3         2         1     \n",
              "Date                                      \n",
              "1999-03-11   8.57875   8.59125   8.74250  \n",
              "1999-03-12   8.59125   8.74250   8.83500  \n",
              "1999-03-15   8.74250   8.83500   8.78625  \n",
              "1999-03-16   8.83500   8.78625   8.84875  \n",
              "1999-03-17   8.78625   8.84875   8.89375  \n",
              "...              ...       ...       ...  \n",
              "2011-02-02  15.38000  15.52000  15.68000  \n",
              "2011-02-03  15.52000  15.68000  15.68000  \n",
              "2011-02-04  15.68000  15.68000  15.81000  \n",
              "2011-02-07  15.68000  15.81000  15.91000  \n",
              "2011-02-08  15.81000  15.91000  15.59000  \n",
              "\n",
              "[3000 rows x 1628 columns]"
            ],
            "text/html": [
              "\n",
              "  <div id=\"df-d91b8c2b-ad39-40a4-a29d-b1895fe07872\">\n",
              "    <div class=\"colab-df-container\">\n",
              "      <div>\n",
              "<style scoped>\n",
              "    .dataframe tbody tr th:only-of-type {\n",
              "        vertical-align: middle;\n",
              "    }\n",
              "\n",
              "    .dataframe tbody tr th {\n",
              "        vertical-align: top;\n",
              "    }\n",
              "\n",
              "    .dataframe thead th {\n",
              "        text-align: right;\n",
              "    }\n",
              "</style>\n",
              "<table border=\"1\" class=\"dataframe\">\n",
              "  <thead>\n",
              "    <tr style=\"text-align: right;\">\n",
              "      <th></th>\n",
              "      <th>1628</th>\n",
              "      <th>1627</th>\n",
              "      <th>1626</th>\n",
              "      <th>1625</th>\n",
              "      <th>1624</th>\n",
              "      <th>1623</th>\n",
              "      <th>1622</th>\n",
              "      <th>1621</th>\n",
              "      <th>1620</th>\n",
              "      <th>1619</th>\n",
              "      <th>...</th>\n",
              "      <th>10</th>\n",
              "      <th>9</th>\n",
              "      <th>8</th>\n",
              "      <th>7</th>\n",
              "      <th>6</th>\n",
              "      <th>5</th>\n",
              "      <th>4</th>\n",
              "      <th>3</th>\n",
              "      <th>2</th>\n",
              "      <th>1</th>\n",
              "    </tr>\n",
              "    <tr>\n",
              "      <th>Date</th>\n",
              "      <th></th>\n",
              "      <th></th>\n",
              "      <th></th>\n",
              "      <th></th>\n",
              "      <th></th>\n",
              "      <th></th>\n",
              "      <th></th>\n",
              "      <th></th>\n",
              "      <th></th>\n",
              "      <th></th>\n",
              "      <th></th>\n",
              "      <th></th>\n",
              "      <th></th>\n",
              "      <th></th>\n",
              "      <th></th>\n",
              "      <th></th>\n",
              "      <th></th>\n",
              "      <th></th>\n",
              "      <th></th>\n",
              "      <th></th>\n",
              "      <th></th>\n",
              "    </tr>\n",
              "  </thead>\n",
              "  <tbody>\n",
              "    <tr>\n",
              "      <th>1999-03-11</th>\n",
              "      <td>1.464844</td>\n",
              "      <td>1.457031</td>\n",
              "      <td>1.324219</td>\n",
              "      <td>1.312500</td>\n",
              "      <td>1.320313</td>\n",
              "      <td>1.343750</td>\n",
              "      <td>1.312500</td>\n",
              "      <td>1.320313</td>\n",
              "      <td>1.261719</td>\n",
              "      <td>1.273438</td>\n",
              "      <td>...</td>\n",
              "      <td>8.81250</td>\n",
              "      <td>8.75625</td>\n",
              "      <td>8.84375</td>\n",
              "      <td>8.77000</td>\n",
              "      <td>8.77125</td>\n",
              "      <td>8.70375</td>\n",
              "      <td>8.46250</td>\n",
              "      <td>8.57875</td>\n",
              "      <td>8.59125</td>\n",
              "      <td>8.74250</td>\n",
              "    </tr>\n",
              "    <tr>\n",
              "      <th>1999-03-12</th>\n",
              "      <td>1.457031</td>\n",
              "      <td>1.324219</td>\n",
              "      <td>1.312500</td>\n",
              "      <td>1.320313</td>\n",
              "      <td>1.343750</td>\n",
              "      <td>1.312500</td>\n",
              "      <td>1.320313</td>\n",
              "      <td>1.261719</td>\n",
              "      <td>1.273438</td>\n",
              "      <td>1.320313</td>\n",
              "      <td>...</td>\n",
              "      <td>8.75625</td>\n",
              "      <td>8.84375</td>\n",
              "      <td>8.77000</td>\n",
              "      <td>8.77125</td>\n",
              "      <td>8.70375</td>\n",
              "      <td>8.46250</td>\n",
              "      <td>8.57875</td>\n",
              "      <td>8.59125</td>\n",
              "      <td>8.74250</td>\n",
              "      <td>8.83500</td>\n",
              "    </tr>\n",
              "    <tr>\n",
              "      <th>1999-03-15</th>\n",
              "      <td>1.324219</td>\n",
              "      <td>1.312500</td>\n",
              "      <td>1.320313</td>\n",
              "      <td>1.343750</td>\n",
              "      <td>1.312500</td>\n",
              "      <td>1.320313</td>\n",
              "      <td>1.261719</td>\n",
              "      <td>1.273438</td>\n",
              "      <td>1.320313</td>\n",
              "      <td>1.417969</td>\n",
              "      <td>...</td>\n",
              "      <td>8.84375</td>\n",
              "      <td>8.77000</td>\n",
              "      <td>8.77125</td>\n",
              "      <td>8.70375</td>\n",
              "      <td>8.46250</td>\n",
              "      <td>8.57875</td>\n",
              "      <td>8.59125</td>\n",
              "      <td>8.74250</td>\n",
              "      <td>8.83500</td>\n",
              "      <td>8.78625</td>\n",
              "    </tr>\n",
              "    <tr>\n",
              "      <th>1999-03-16</th>\n",
              "      <td>1.312500</td>\n",
              "      <td>1.320313</td>\n",
              "      <td>1.343750</td>\n",
              "      <td>1.312500</td>\n",
              "      <td>1.320313</td>\n",
              "      <td>1.261719</td>\n",
              "      <td>1.273438</td>\n",
              "      <td>1.320313</td>\n",
              "      <td>1.417969</td>\n",
              "      <td>1.433594</td>\n",
              "      <td>...</td>\n",
              "      <td>8.77000</td>\n",
              "      <td>8.77125</td>\n",
              "      <td>8.70375</td>\n",
              "      <td>8.46250</td>\n",
              "      <td>8.57875</td>\n",
              "      <td>8.59125</td>\n",
              "      <td>8.74250</td>\n",
              "      <td>8.83500</td>\n",
              "      <td>8.78625</td>\n",
              "      <td>8.84875</td>\n",
              "    </tr>\n",
              "    <tr>\n",
              "      <th>1999-03-17</th>\n",
              "      <td>1.320313</td>\n",
              "      <td>1.343750</td>\n",
              "      <td>1.312500</td>\n",
              "      <td>1.320313</td>\n",
              "      <td>1.261719</td>\n",
              "      <td>1.273438</td>\n",
              "      <td>1.320313</td>\n",
              "      <td>1.417969</td>\n",
              "      <td>1.433594</td>\n",
              "      <td>1.417969</td>\n",
              "      <td>...</td>\n",
              "      <td>8.77125</td>\n",
              "      <td>8.70375</td>\n",
              "      <td>8.46250</td>\n",
              "      <td>8.57875</td>\n",
              "      <td>8.59125</td>\n",
              "      <td>8.74250</td>\n",
              "      <td>8.83500</td>\n",
              "      <td>8.78625</td>\n",
              "      <td>8.84875</td>\n",
              "      <td>8.89375</td>\n",
              "    </tr>\n",
              "    <tr>\n",
              "      <th>...</th>\n",
              "      <td>...</td>\n",
              "      <td>...</td>\n",
              "      <td>...</td>\n",
              "      <td>...</td>\n",
              "      <td>...</td>\n",
              "      <td>...</td>\n",
              "      <td>...</td>\n",
              "      <td>...</td>\n",
              "      <td>...</td>\n",
              "      <td>...</td>\n",
              "      <td>...</td>\n",
              "      <td>...</td>\n",
              "      <td>...</td>\n",
              "      <td>...</td>\n",
              "      <td>...</td>\n",
              "      <td>...</td>\n",
              "      <td>...</td>\n",
              "      <td>...</td>\n",
              "      <td>...</td>\n",
              "      <td>...</td>\n",
              "      <td>...</td>\n",
              "    </tr>\n",
              "    <tr>\n",
              "      <th>2011-02-02</th>\n",
              "      <td>17.004999</td>\n",
              "      <td>17.087500</td>\n",
              "      <td>16.920000</td>\n",
              "      <td>17.184999</td>\n",
              "      <td>17.245001</td>\n",
              "      <td>17.002501</td>\n",
              "      <td>16.830000</td>\n",
              "      <td>16.780001</td>\n",
              "      <td>17.035000</td>\n",
              "      <td>17.072500</td>\n",
              "      <td>...</td>\n",
              "      <td>15.32000</td>\n",
              "      <td>15.47000</td>\n",
              "      <td>15.64000</td>\n",
              "      <td>15.56000</td>\n",
              "      <td>15.67000</td>\n",
              "      <td>15.64000</td>\n",
              "      <td>15.55000</td>\n",
              "      <td>15.38000</td>\n",
              "      <td>15.52000</td>\n",
              "      <td>15.68000</td>\n",
              "    </tr>\n",
              "    <tr>\n",
              "      <th>2011-02-03</th>\n",
              "      <td>17.087500</td>\n",
              "      <td>16.920000</td>\n",
              "      <td>17.184999</td>\n",
              "      <td>17.245001</td>\n",
              "      <td>17.002501</td>\n",
              "      <td>16.830000</td>\n",
              "      <td>16.780001</td>\n",
              "      <td>17.035000</td>\n",
              "      <td>17.072500</td>\n",
              "      <td>17.167500</td>\n",
              "      <td>...</td>\n",
              "      <td>15.47000</td>\n",
              "      <td>15.64000</td>\n",
              "      <td>15.56000</td>\n",
              "      <td>15.67000</td>\n",
              "      <td>15.64000</td>\n",
              "      <td>15.55000</td>\n",
              "      <td>15.38000</td>\n",
              "      <td>15.52000</td>\n",
              "      <td>15.68000</td>\n",
              "      <td>15.68000</td>\n",
              "    </tr>\n",
              "    <tr>\n",
              "      <th>2011-02-04</th>\n",
              "      <td>16.920000</td>\n",
              "      <td>17.184999</td>\n",
              "      <td>17.245001</td>\n",
              "      <td>17.002501</td>\n",
              "      <td>16.830000</td>\n",
              "      <td>16.780001</td>\n",
              "      <td>17.035000</td>\n",
              "      <td>17.072500</td>\n",
              "      <td>17.167500</td>\n",
              "      <td>17.389999</td>\n",
              "      <td>...</td>\n",
              "      <td>15.64000</td>\n",
              "      <td>15.56000</td>\n",
              "      <td>15.67000</td>\n",
              "      <td>15.64000</td>\n",
              "      <td>15.55000</td>\n",
              "      <td>15.38000</td>\n",
              "      <td>15.52000</td>\n",
              "      <td>15.68000</td>\n",
              "      <td>15.68000</td>\n",
              "      <td>15.81000</td>\n",
              "    </tr>\n",
              "    <tr>\n",
              "      <th>2011-02-07</th>\n",
              "      <td>17.184999</td>\n",
              "      <td>17.245001</td>\n",
              "      <td>17.002501</td>\n",
              "      <td>16.830000</td>\n",
              "      <td>16.780001</td>\n",
              "      <td>17.035000</td>\n",
              "      <td>17.072500</td>\n",
              "      <td>17.167500</td>\n",
              "      <td>17.389999</td>\n",
              "      <td>17.342501</td>\n",
              "      <td>...</td>\n",
              "      <td>15.56000</td>\n",
              "      <td>15.67000</td>\n",
              "      <td>15.64000</td>\n",
              "      <td>15.55000</td>\n",
              "      <td>15.38000</td>\n",
              "      <td>15.52000</td>\n",
              "      <td>15.68000</td>\n",
              "      <td>15.68000</td>\n",
              "      <td>15.81000</td>\n",
              "      <td>15.91000</td>\n",
              "    </tr>\n",
              "    <tr>\n",
              "      <th>2011-02-08</th>\n",
              "      <td>17.245001</td>\n",
              "      <td>17.002501</td>\n",
              "      <td>16.830000</td>\n",
              "      <td>16.780001</td>\n",
              "      <td>17.035000</td>\n",
              "      <td>17.072500</td>\n",
              "      <td>17.167500</td>\n",
              "      <td>17.389999</td>\n",
              "      <td>17.342501</td>\n",
              "      <td>16.850000</td>\n",
              "      <td>...</td>\n",
              "      <td>15.67000</td>\n",
              "      <td>15.64000</td>\n",
              "      <td>15.55000</td>\n",
              "      <td>15.38000</td>\n",
              "      <td>15.52000</td>\n",
              "      <td>15.68000</td>\n",
              "      <td>15.68000</td>\n",
              "      <td>15.81000</td>\n",
              "      <td>15.91000</td>\n",
              "      <td>15.59000</td>\n",
              "    </tr>\n",
              "  </tbody>\n",
              "</table>\n",
              "<p>3000 rows × 1628 columns</p>\n",
              "</div>\n",
              "      <button class=\"colab-df-convert\" onclick=\"convertToInteractive('df-d91b8c2b-ad39-40a4-a29d-b1895fe07872')\"\n",
              "              title=\"Convert this dataframe to an interactive table.\"\n",
              "              style=\"display:none;\">\n",
              "        \n",
              "  <svg xmlns=\"http://www.w3.org/2000/svg\" height=\"24px\"viewBox=\"0 0 24 24\"\n",
              "       width=\"24px\">\n",
              "    <path d=\"M0 0h24v24H0V0z\" fill=\"none\"/>\n",
              "    <path d=\"M18.56 5.44l.94 2.06.94-2.06 2.06-.94-2.06-.94-.94-2.06-.94 2.06-2.06.94zm-11 1L8.5 8.5l.94-2.06 2.06-.94-2.06-.94L8.5 2.5l-.94 2.06-2.06.94zm10 10l.94 2.06.94-2.06 2.06-.94-2.06-.94-.94-2.06-.94 2.06-2.06.94z\"/><path d=\"M17.41 7.96l-1.37-1.37c-.4-.4-.92-.59-1.43-.59-.52 0-1.04.2-1.43.59L10.3 9.45l-7.72 7.72c-.78.78-.78 2.05 0 2.83L4 21.41c.39.39.9.59 1.41.59.51 0 1.02-.2 1.41-.59l7.78-7.78 2.81-2.81c.8-.78.8-2.07 0-2.86zM5.41 20L4 18.59l7.72-7.72 1.47 1.35L5.41 20z\"/>\n",
              "  </svg>\n",
              "      </button>\n",
              "      \n",
              "  <style>\n",
              "    .colab-df-container {\n",
              "      display:flex;\n",
              "      flex-wrap:wrap;\n",
              "      gap: 12px;\n",
              "    }\n",
              "\n",
              "    .colab-df-convert {\n",
              "      background-color: #E8F0FE;\n",
              "      border: none;\n",
              "      border-radius: 50%;\n",
              "      cursor: pointer;\n",
              "      display: none;\n",
              "      fill: #1967D2;\n",
              "      height: 32px;\n",
              "      padding: 0 0 0 0;\n",
              "      width: 32px;\n",
              "    }\n",
              "\n",
              "    .colab-df-convert:hover {\n",
              "      background-color: #E2EBFA;\n",
              "      box-shadow: 0px 1px 2px rgba(60, 64, 67, 0.3), 0px 1px 3px 1px rgba(60, 64, 67, 0.15);\n",
              "      fill: #174EA6;\n",
              "    }\n",
              "\n",
              "    [theme=dark] .colab-df-convert {\n",
              "      background-color: #3B4455;\n",
              "      fill: #D2E3FC;\n",
              "    }\n",
              "\n",
              "    [theme=dark] .colab-df-convert:hover {\n",
              "      background-color: #434B5C;\n",
              "      box-shadow: 0px 1px 3px 1px rgba(0, 0, 0, 0.15);\n",
              "      filter: drop-shadow(0px 1px 2px rgba(0, 0, 0, 0.3));\n",
              "      fill: #FFFFFF;\n",
              "    }\n",
              "  </style>\n",
              "\n",
              "      <script>\n",
              "        const buttonEl =\n",
              "          document.querySelector('#df-d91b8c2b-ad39-40a4-a29d-b1895fe07872 button.colab-df-convert');\n",
              "        buttonEl.style.display =\n",
              "          google.colab.kernel.accessAllowed ? 'block' : 'none';\n",
              "\n",
              "        async function convertToInteractive(key) {\n",
              "          const element = document.querySelector('#df-d91b8c2b-ad39-40a4-a29d-b1895fe07872');\n",
              "          const dataTable =\n",
              "            await google.colab.kernel.invokeFunction('convertToInteractive',\n",
              "                                                     [key], {});\n",
              "          if (!dataTable) return;\n",
              "\n",
              "          const docLinkHtml = 'Like what you see? Visit the ' +\n",
              "            '<a target=\"_blank\" href=https://colab.research.google.com/notebooks/data_table.ipynb>data table notebook</a>'\n",
              "            + ' to learn more about interactive tables.';\n",
              "          element.innerHTML = '';\n",
              "          dataTable['output_type'] = 'display_data';\n",
              "          await google.colab.output.renderOutput(dataTable, element);\n",
              "          const docLink = document.createElement('div');\n",
              "          docLink.innerHTML = docLinkHtml;\n",
              "          element.appendChild(docLink);\n",
              "        }\n",
              "      </script>\n",
              "    </div>\n",
              "  </div>\n",
              "  "
            ]
          },
          "metadata": {},
          "execution_count": 109
        }
      ]
    },
    {
      "cell_type": "code",
      "source": [
        "#moving average\n",
        "y_ma=x_test.mean(axis=1)\n",
        "mse(y_ma,y_test), np.sqrt(mse(y_ma,y_test))"
      ],
      "metadata": {
        "colab": {
          "base_uri": "https://localhost:8080/"
        },
        "id": "pmWufr-Z-HrM",
        "outputId": "e9d7cee2-fb35-4018-fd08-ac6153a3e17a"
      },
      "execution_count": 110,
      "outputs": [
        {
          "output_type": "execute_result",
          "data": {
            "text/plain": [
              "(5.615627691151676, 2.3697315652097974)"
            ]
          },
          "metadata": {},
          "execution_count": 110
        }
      ]
    },
    {
      "cell_type": "code",
      "source": [
        "plot_pred(y_ma,\"Moving Average\")"
      ],
      "metadata": {
        "colab": {
          "base_uri": "https://localhost:8080/",
          "height": 383
        },
        "id": "wFhJIvh_-pYB",
        "outputId": "09266a18-42f6-4344-8e00-aa9388273a35"
      },
      "execution_count": 111,
      "outputs": [
        {
          "output_type": "display_data",
          "data": {
            "text/plain": [
              "<Figure size 2000x600 with 1 Axes>"
            ],
            "image/png": "[encoded data removed]"
          },
          "metadata": {}
        }
      ]
    },
    {
      "cell_type": "code",
      "source": [
        "# Import necessary packages\n",
        "from sklearn.metrics import r2_score\n",
        "\n",
        "# Calculate the R-squared score\n",
        "r2score = r2_score(y_test, y_ma)\n",
        "\n",
        "# Print the R-squared score\n",
        "print(\"R-squared score: {:.4f}\".format(r2score))"
      ],
      "metadata": {
        "colab": {
          "base_uri": "https://localhost:8080/"
        },
        "id": "CGdV3MRgNRC0",
        "outputId": "4e0f5255-25a2-4d48-9793-4a0e56790a19"
      },
      "execution_count": 113,
      "outputs": [
        {
          "output_type": "stream",
          "name": "stdout",
          "text": [
            "R-squared score: 0.0013\n"
          ]
        }
      ]
    }
  ]
}